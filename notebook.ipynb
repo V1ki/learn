{
 "cells": [
  {
   "cell_type": "code",
   "execution_count": 3,
   "id": "276b5230-fbd6-4236-a714-64340c076c99",
   "metadata": {},
   "outputs": [
    {
     "name": "stdout",
     "output_type": "stream",
     "text": [
      "Looking in indexes: http://mirrors.cloud.aliyuncs.com/pypi/simple/\n",
      "Requirement already satisfied: numpy in /root/miniconda3/lib/python3.9/site-packages (1.23.5)\n",
      "Collecting matplotlib\n",
      "  Downloading http://mirrors.cloud.aliyuncs.com/pypi/packages/d8/c0/96da5f5532ac500860a52f87a933cdea66436f1c436a76e80015ee2409c4/matplotlib-3.6.2-cp39-cp39-manylinux_2_17_x86_64.manylinux2014_x86_64.whl (11.8 MB)\n",
      "\u001b[2K     \u001b[90m━━━━━━━━━━━━━━━━━━━━━━━━━━━━━━━━━━━━━━━━\u001b[0m \u001b[32m11.8/11.8 MB\u001b[0m \u001b[31m55.4 MB/s\u001b[0m eta \u001b[36m0:00:00\u001b[0m00:01\u001b[0m0:01\u001b[0m\n",
      "\u001b[?25hCollecting ipywidgets\n",
      "  Downloading http://mirrors.cloud.aliyuncs.com/pypi/packages/37/9e/a8af39f78f49588a347a94cc76253cc83e791a1f661d2a6110dcf032dc85/ipywidgets-8.0.3-py3-none-any.whl (137 kB)\n",
      "\u001b[2K     \u001b[90m━━━━━━━━━━━━━━━━━━━━━━━━━━━━━━━━━━━━━━\u001b[0m \u001b[32m137.9/137.9 kB\u001b[0m \u001b[31m17.8 MB/s\u001b[0m eta \u001b[36m0:00:00\u001b[0m\n",
      "\u001b[?25hCollecting seaborn\n",
      "  Downloading http://mirrors.cloud.aliyuncs.com/pypi/packages/77/18/7354cb68dd7906d5a3118e0ed3e30c37502f9e6253139ecfcf4fa33af210/seaborn-0.12.1-py3-none-any.whl (288 kB)\n",
      "\u001b[2K     \u001b[90m━━━━━━━━━━━━━━━━━━━━━━━━━━━━━━━━━━━━━━\u001b[0m \u001b[32m288.2/288.2 kB\u001b[0m \u001b[31m31.3 MB/s\u001b[0m eta \u001b[36m0:00:00\u001b[0m\n",
      "\u001b[?25hRequirement already satisfied: python-dateutil>=2.7 in /root/miniconda3/lib/python3.9/site-packages (from matplotlib) (2.8.2)\n",
      "Requirement already satisfied: packaging>=20.0 in /root/miniconda3/lib/python3.9/site-packages (from matplotlib) (22.0)\n",
      "Collecting fonttools>=4.22.0\n",
      "  Downloading http://mirrors.cloud.aliyuncs.com/pypi/packages/e3/d9/e9bae85e84737e76ebbcbea13607236da0c0699baed0ae4f1151b728a608/fonttools-4.38.0-py3-none-any.whl (965 kB)\n",
      "\u001b[2K     \u001b[90m━━━━━━━━━━━━━━━━━━━━━━━━━━━━━━━━━━━━━━\u001b[0m \u001b[32m965.4/965.4 kB\u001b[0m \u001b[31m56.9 MB/s\u001b[0m eta \u001b[36m0:00:00\u001b[0m\n",
      "\u001b[?25hCollecting pillow>=6.2.0\n",
      "  Downloading http://mirrors.cloud.aliyuncs.com/pypi/packages/2f/73/ec6b3e3f6b311cf1468eafc92a890f690a2cacac0cfd0f1bcc2b891d1334/Pillow-9.3.0-cp39-cp39-manylinux_2_17_x86_64.manylinux2014_x86_64.whl (3.2 MB)\n",
      "\u001b[2K     \u001b[90m━━━━━━━━━━━━━━━━━━━━━━━━━━━━━━━━━━━━━━━━\u001b[0m \u001b[32m3.2/3.2 MB\u001b[0m \u001b[31m49.2 MB/s\u001b[0m eta \u001b[36m0:00:00\u001b[0m:00:01\u001b[0m\n",
      "\u001b[?25hCollecting pyparsing>=2.2.1\n",
      "  Downloading http://mirrors.cloud.aliyuncs.com/pypi/packages/6c/10/a7d0fa5baea8fe7b50f448ab742f26f52b80bfca85ac2be9d35cdd9a3246/pyparsing-3.0.9-py3-none-any.whl (98 kB)\n",
      "\u001b[2K     \u001b[90m━━━━━━━━━━━━━━━━━━━━━━━━━━━━━━━━━━━━━━━━\u001b[0m \u001b[32m98.3/98.3 kB\u001b[0m \u001b[31m12.9 MB/s\u001b[0m eta \u001b[36m0:00:00\u001b[0m\n",
      "\u001b[?25hCollecting kiwisolver>=1.0.1\n",
      "  Downloading http://mirrors.cloud.aliyuncs.com/pypi/packages/a4/36/c414d75be311ce97ef7248edcc4fc05afae2998641bf6b592d43a9dee581/kiwisolver-1.4.4-cp39-cp39-manylinux_2_12_x86_64.manylinux2010_x86_64.whl (1.6 MB)\n",
      "\u001b[2K     \u001b[90m━━━━━━━━━━━━━━━━━━━━━━━━━━━━━━━━━━━━━━━━\u001b[0m \u001b[32m1.6/1.6 MB\u001b[0m \u001b[31m39.6 MB/s\u001b[0m eta \u001b[36m0:00:00\u001b[0m:00:01\u001b[0m\n",
      "\u001b[?25hCollecting contourpy>=1.0.1\n",
      "  Downloading http://mirrors.cloud.aliyuncs.com/pypi/packages/2f/b2/3787a2993307d8305d693594b2e0f3a0fc95b4e064ad4582324487fc848a/contourpy-1.0.6-cp39-cp39-manylinux_2_17_x86_64.manylinux2014_x86_64.whl (296 kB)\n",
      "\u001b[2K     \u001b[90m━━━━━━━━━━━━━━━━━━━━━━━━━━━━━━━━━━━━━━\u001b[0m \u001b[32m296.3/296.3 kB\u001b[0m \u001b[31m30.8 MB/s\u001b[0m eta \u001b[36m0:00:00\u001b[0m\n",
      "\u001b[?25hCollecting cycler>=0.10\n",
      "  Downloading http://mirrors.cloud.aliyuncs.com/pypi/packages/5c/f9/695d6bedebd747e5eb0fe8fad57b72fdf25411273a39791cde838d5a8f51/cycler-0.11.0-py3-none-any.whl (6.4 kB)\n",
      "Requirement already satisfied: ipykernel>=4.5.1 in /root/miniconda3/lib/python3.9/site-packages (from ipywidgets) (6.19.2)\n",
      "Collecting widgetsnbextension~=4.0\n",
      "  Downloading http://mirrors.cloud.aliyuncs.com/pypi/packages/77/38/4573f2afe8ab14f91d2f6aa1faae78435127868d11a895d0ae97b1ee3d6c/widgetsnbextension-4.0.4-py3-none-any.whl (2.0 MB)\n",
      "\u001b[2K     \u001b[90m━━━━━━━━━━━━━━━━━━━━━━━━━━━━━━━━━━━━━━━━\u001b[0m \u001b[32m2.0/2.0 MB\u001b[0m \u001b[31m64.7 MB/s\u001b[0m eta \u001b[36m0:00:00\u001b[0m\n",
      "\u001b[?25hCollecting jupyterlab-widgets~=3.0\n",
      "  Downloading http://mirrors.cloud.aliyuncs.com/pypi/packages/c4/a2/c140ec0fa915c7e93934128465a433a657ed588581783142cb51a92e8eae/jupyterlab_widgets-3.0.4-py3-none-any.whl (384 kB)\n",
      "\u001b[2K     \u001b[90m━━━━━━━━━━━━━━━━━━━━━━━━━━━━━━━━━━━━━━\u001b[0m \u001b[32m384.3/384.3 kB\u001b[0m \u001b[31m31.2 MB/s\u001b[0m eta \u001b[36m0:00:00\u001b[0m\n",
      "\u001b[?25hRequirement already satisfied: traitlets>=4.3.1 in /root/miniconda3/lib/python3.9/site-packages (from ipywidgets) (5.7.0)\n",
      "Requirement already satisfied: ipython>=6.1.0 in /root/miniconda3/lib/python3.9/site-packages (from ipywidgets) (8.7.0)\n",
      "Collecting pandas>=0.25\n",
      "  Downloading http://mirrors.cloud.aliyuncs.com/pypi/packages/5e/ed/5c9cdaa5d48c7194bef4335eab3cdc2f8afa868a5546027e018ea9deb4c3/pandas-1.5.2-cp39-cp39-manylinux_2_17_x86_64.manylinux2014_x86_64.whl (12.2 MB)\n",
      "\u001b[2K     \u001b[90m━━━━━━━━━━━━━━━━━━━━━━━━━━━━━━━━━━━━━━━━\u001b[0m \u001b[32m12.2/12.2 MB\u001b[0m \u001b[31m38.4 MB/s\u001b[0m eta \u001b[36m0:00:00\u001b[0m00:01\u001b[0m00:01\u001b[0m\n",
      "\u001b[?25hRequirement already satisfied: jupyter-client>=6.1.12 in /root/miniconda3/lib/python3.9/site-packages (from ipykernel>=4.5.1->ipywidgets) (7.4.8)\n",
      "Requirement already satisfied: tornado>=6.1 in /root/miniconda3/lib/python3.9/site-packages (from ipykernel>=4.5.1->ipywidgets) (6.2)\n",
      "Requirement already satisfied: debugpy>=1.0 in /root/miniconda3/lib/python3.9/site-packages (from ipykernel>=4.5.1->ipywidgets) (1.6.4)\n",
      "Requirement already satisfied: pyzmq>=17 in /root/miniconda3/lib/python3.9/site-packages (from ipykernel>=4.5.1->ipywidgets) (24.0.1)\n",
      "Requirement already satisfied: psutil in /root/miniconda3/lib/python3.9/site-packages (from ipykernel>=4.5.1->ipywidgets) (5.9.4)\n",
      "Requirement already satisfied: matplotlib-inline>=0.1 in /root/miniconda3/lib/python3.9/site-packages (from ipykernel>=4.5.1->ipywidgets) (0.1.6)\n",
      "Requirement already satisfied: comm>=0.1.1 in /root/miniconda3/lib/python3.9/site-packages (from ipykernel>=4.5.1->ipywidgets) (0.1.2)\n",
      "Requirement already satisfied: nest-asyncio in /root/miniconda3/lib/python3.9/site-packages (from ipykernel>=4.5.1->ipywidgets) (1.5.6)\n",
      "Requirement already satisfied: pexpect>4.3 in /root/miniconda3/lib/python3.9/site-packages (from ipython>=6.1.0->ipywidgets) (4.8.0)\n",
      "Requirement already satisfied: pygments>=2.4.0 in /root/miniconda3/lib/python3.9/site-packages (from ipython>=6.1.0->ipywidgets) (2.13.0)\n",
      "Requirement already satisfied: jedi>=0.16 in /root/miniconda3/lib/python3.9/site-packages (from ipython>=6.1.0->ipywidgets) (0.18.2)\n",
      "Requirement already satisfied: prompt-toolkit<3.1.0,>=3.0.11 in /root/miniconda3/lib/python3.9/site-packages (from ipython>=6.1.0->ipywidgets) (3.0.36)\n",
      "Requirement already satisfied: decorator in /root/miniconda3/lib/python3.9/site-packages (from ipython>=6.1.0->ipywidgets) (5.1.1)\n",
      "Requirement already satisfied: pickleshare in /root/miniconda3/lib/python3.9/site-packages (from ipython>=6.1.0->ipywidgets) (0.7.5)\n",
      "Requirement already satisfied: backcall in /root/miniconda3/lib/python3.9/site-packages (from ipython>=6.1.0->ipywidgets) (0.2.0)\n",
      "Requirement already satisfied: stack-data in /root/miniconda3/lib/python3.9/site-packages (from ipython>=6.1.0->ipywidgets) (0.6.2)\n",
      "Requirement already satisfied: pytz>=2020.1 in /root/miniconda3/lib/python3.9/site-packages (from pandas>=0.25->seaborn) (2022.6)\n",
      "Requirement already satisfied: six>=1.5 in /root/miniconda3/lib/python3.9/site-packages (from python-dateutil>=2.7->matplotlib) (1.16.0)\n",
      "Requirement already satisfied: parso<0.9.0,>=0.8.0 in /root/miniconda3/lib/python3.9/site-packages (from jedi>=0.16->ipython>=6.1.0->ipywidgets) (0.8.3)\n",
      "Requirement already satisfied: jupyter-core>=4.9.2 in /root/miniconda3/lib/python3.9/site-packages (from jupyter-client>=6.1.12->ipykernel>=4.5.1->ipywidgets) (5.1.0)\n",
      "Requirement already satisfied: entrypoints in /root/miniconda3/lib/python3.9/site-packages (from jupyter-client>=6.1.12->ipykernel>=4.5.1->ipywidgets) (0.4)\n",
      "Requirement already satisfied: ptyprocess>=0.5 in /root/miniconda3/lib/python3.9/site-packages (from pexpect>4.3->ipython>=6.1.0->ipywidgets) (0.7.0)\n",
      "Requirement already satisfied: wcwidth in /root/miniconda3/lib/python3.9/site-packages (from prompt-toolkit<3.1.0,>=3.0.11->ipython>=6.1.0->ipywidgets) (0.2.5)\n",
      "Requirement already satisfied: asttokens>=2.1.0 in /root/miniconda3/lib/python3.9/site-packages (from stack-data->ipython>=6.1.0->ipywidgets) (2.2.1)\n",
      "Requirement already satisfied: pure-eval in /root/miniconda3/lib/python3.9/site-packages (from stack-data->ipython>=6.1.0->ipywidgets) (0.2.2)\n",
      "Requirement already satisfied: executing>=1.2.0 in /root/miniconda3/lib/python3.9/site-packages (from stack-data->ipython>=6.1.0->ipywidgets) (1.2.0)\n",
      "Requirement already satisfied: platformdirs>=2.5 in /root/miniconda3/lib/python3.9/site-packages (from jupyter-core>=4.9.2->jupyter-client>=6.1.12->ipykernel>=4.5.1->ipywidgets) (2.6.0)\n",
      "Installing collected packages: widgetsnbextension, pyparsing, pillow, kiwisolver, jupyterlab-widgets, fonttools, cycler, contourpy, pandas, matplotlib, seaborn, ipywidgets\n",
      "Successfully installed contourpy-1.0.6 cycler-0.11.0 fonttools-4.38.0 ipywidgets-8.0.3 jupyterlab-widgets-3.0.4 kiwisolver-1.4.4 matplotlib-3.6.2 pandas-1.5.2 pillow-9.3.0 pyparsing-3.0.9 seaborn-0.12.1 widgetsnbextension-4.0.4\n",
      "\u001b[33mWARNING: Running pip as the 'root' user can result in broken permissions and conflicting behaviour with the system package manager. It is recommended to use a virtual environment instead: https://pip.pypa.io/warnings/venv\u001b[0m\u001b[33m\n",
      "\u001b[0m"
     ]
    }
   ],
   "source": [
    "!pip install numpy matplotlib ipywidgets seaborn"
   ]
  },
  {
   "cell_type": "markdown",
   "id": "14cdfae8-c50b-40be-bd3a-3ed12c9e3783",
   "metadata": {
    "slideshow": {
     "slide_type": "slide"
    },
    "tags": []
   },
   "source": [
    "# Character 2 ： 乘除"
   ]
  },
  {
   "cell_type": "code",
   "execution_count": 4,
   "id": "c1d7f786-0598-480a-a0de-b1b1a592ac81",
   "metadata": {},
   "outputs": [],
   "source": [
    "import numpy as np\n",
    "from matplotlib import pyplot as plt\n",
    "import seaborn as sns\n",
    "import ipywidgets as widgets\n",
    "from ipywidgets import interact, interact_manual\n",
    "\n",
    "%matplotlib inline"
   ]
  },
  {
   "cell_type": "markdown",
   "id": "585ed74e-179c-4d61-946b-68f4354ed022",
   "metadata": {
    "slideshow": {
     "slide_type": "slide"
    },
    "tags": []
   },
   "source": [
    "## 2.2 向量乘法"
   ]
  },
  {
   "cell_type": "markdown",
   "id": "aa343f82-8279-44f2-bdec-4d40aafbac3e",
   "metadata": {},
   "source": [
    "### a. 标量乘法（scalar multiplication）\n",
    "标量乘法运算中，标量乘向量结果还是向量，相当于缩放。"
   ]
  },
  {
   "cell_type": "markdown",
   "id": "347ef2e4-4928-477b-8258-0acab5e6e688",
   "metadata": {
    "tags": []
   },
   "source": [
    "### b. 向量内积 （inner product）"
   ]
  },
  {
   "cell_type": "markdown",
   "id": "81384333-34f2-4e9a-b3c5-6057f8297a7d",
   "metadata": {},
   "source": [
    "向量内积结果为标量。向量内积又叫做 标量积（scalar product） 或者 点积（dot product）.  \n",
    "向量内积的运算规则是， 两个形状相同向量，对应位置元素一一相乘，再求和。"
   ]
  },
  {
   "cell_type": "markdown",
   "id": "6adcffec-5492-4dcd-a26c-20d301424077",
   "metadata": {},
   "source": [
    "例如计算两个行向量的向量内积: \n",
    "$$ \n",
    "\\begin{align}\n",
    "\\tag{1} a \\cdot b &= \\begin{bmatrix} 1 & 2 & 3  \\end{bmatrix} \n",
    "\\cdot\n",
    "\\begin{bmatrix} 4 & 5 & 6  \\end{bmatrix}  \\\\ \n",
    "\\tag{2} &= 1 * 4 + 2 * 5 + 3 *6 \\\\ \n",
    "\\tag{3} &= 32 \\\\ \n",
    "\\end{align}\n",
    "$$"
   ]
  },
  {
   "cell_type": "code",
   "execution_count": 5,
   "id": "49763819-eec2-46cb-b6b2-6c8d91d71cd8",
   "metadata": {},
   "outputs": [
    {
     "data": {
      "text/plain": [
       "array([[32]])"
      ]
     },
     "execution_count": 5,
     "metadata": {},
     "output_type": "execute_result"
    }
   ],
   "source": [
    "np.inner(np.array([[1,2,3]]) , np.array([[4,5,6]]))"
   ]
  },
  {
   "cell_type": "markdown",
   "id": "72983a80-9493-48a3-b8b3-32f0b99fc313",
   "metadata": {},
   "source": [
    "### c. 逐项积 （piecewise product）\n",
    "逐项积 (piecewise product)，也叫阿达玛乘积 (Hadamard product)。  \n",
    "两个形状相同向量的逐项积为对应位置元素分别相乘，结果为相同形状的向量。  \n",
    "逐项积的运算符为$\\bigodot$。逐项积相当于算术乘法的批量运算。  "
   ]
  },
  {
   "cell_type": "markdown",
   "id": "519c379c-1650-423e-9166-b635bdcaf2f0",
   "metadata": {
    "tags": []
   },
   "source": [
    "## 2.3 矩阵乘法"
   ]
  },
  {
   "cell_type": "markdown",
   "id": "fe9bf599-c315-4e2b-a0bf-05a6d6f909ef",
   "metadata": {
    "tags": []
   },
   "source": [
    "### 矩阵乘法规则\n",
    "\n",
    "$A$和$B$两个矩阵相乘的前提是矩阵$A$的$\\color{blue}{列数}$和矩阵$B$的$\\color{blue}{行数}$相同. $A$和$B$的乘积一般写作$AB$.   \n",
    "这里,$A$在左边,$B$在右边,不能随意改变顺序. 也就是说矩阵乘法不满足交互律,即 $AB \\ne BA$   \n",
    "$A$ 和 $B$ 两个矩阵相乘 $AB$ 读作“matrix boldface capital $A$ times matrix boldface capital $B$”或“the \n",
    "matrix product boldface capital $A$ and boldface capital $B$”。  \n",
    "NumPy 中，两个矩阵相乘的运算符为 @;    \n",
    "$$ C_{m*n} = A_{m\\ *}\\underbrace{_{\\color{red}p}  B_{\\color{red} p}}{} _{*\\ n} = A_{m\\ *}\\underbrace{_{\\color{red}p} @ B_{\\color{red} p}}{} _{*\\ n} $$\n",
    "\n",
    "$$ C = AB = \\underbrace{\\begin{bmatrix}1 & 2\\\\3 & 4\\end{bmatrix}}_A\\underbrace{\\begin{bmatrix}4 & 2\\\\3 & 1\\end{bmatrix}}_B = \\underbrace{\\begin{bmatrix}1 & 2\\\\3 & 4\\end{bmatrix}}_A@\\underbrace{\\begin{bmatrix}4 & 2\\\\3 & 1\\end{bmatrix}}_B\n",
    "$$\n",
    "\n",
    "矩阵$C$的第$1$行,第$1$列元素$C_{1,1}$ 的值为 $ A^{1} @ B_{1} $ 其中 $ A^{1}$表示行向量;$B_{1}$ 表示列向量.以此类推:  \n",
    "矩阵$C$的第$1$行,第$c$列元素$C_{1,c}$ 的值为 $ A^{1} @ B_{c} $  \n",
    "矩阵$C$的第$n$行,第$c$列元素$C_{n,c}$ 的值为 $ A^{n} @ B_{c} $  \n",
    "\n"
   ]
  },
  {
   "cell_type": "code",
   "execution_count": 6,
   "id": "9cfc64fb-abf8-4d30-a6aa-aa4cafec3a7f",
   "metadata": {},
   "outputs": [],
   "source": [
    "A = np.array([[1,2],[3,4]])\n",
    "B = np.array([[4,2],[3,1]])\n"
   ]
  },
  {
   "cell_type": "code",
   "execution_count": 7,
   "id": "6fc8d2e1-f221-4c9d-8ecb-acb0b1591c2e",
   "metadata": {},
   "outputs": [
    {
     "data": {
      "text/plain": [
       "array([1, 2])"
      ]
     },
     "execution_count": 7,
     "metadata": {},
     "output_type": "execute_result"
    }
   ],
   "source": [
    "A[0,:]"
   ]
  },
  {
   "cell_type": "code",
   "execution_count": 8,
   "id": "50d882ba-a00f-470f-86f8-dee8fc99dcab",
   "metadata": {},
   "outputs": [
    {
     "data": {
      "image/png": "[encoded data removed]",
      "text/plain": [
       "<Figure size 1200x300 with 7 Axes>"
      ]
     },
     "metadata": {},
     "output_type": "display_data"
    },
    {
     "data": {
      "application/vnd.jupyter.widget-view+json": {
       "model_id": "0a00ae22d84d426780b1cca8ade12630",
       "version_major": 2,
       "version_minor": 0
      },
      "text/plain": [
       "interactive(children=(IntSlider(value=1, description='row', max=2, min=1), IntSlider(value=1, description='col…"
      ]
     },
     "metadata": {},
     "output_type": "display_data"
    }
   ],
   "source": [
    "@interact\n",
    "def show_steps(row=(1,2,1),col=(1,2,1)):\n",
    "    \n",
    "    fig, axs = plt.subplots(1, 5, figsize=(12, 3))\n",
    "    \n",
    "    plt.sca(axs[0])\n",
    "    ax = plt.gca()\n",
    "    \n",
    "    ax = sns.heatmap(A[row-1,:].reshape(1,2),cmap='RdBu_r',vmax = 4,vmin = 1,\n",
    "                     cbar_kws={\"orientation\": \"horizontal\"},\n",
    "                     yticklabels=np.arange(1,3), xticklabels=np.arange(1,3))\n",
    "    ax.set_aspect(\"equal\")\n",
    "    plt.title(f'$a^{col}$')\n",
    "    plt.yticks(rotation=0) \n",
    "    \n",
    "    plt.sca(axs[1])\n",
    "    plt.title('$@$')\n",
    "    plt.axis('off')\n",
    "    \n",
    "    \n",
    "    plt.sca(axs[2])\n",
    "    ax = sns.heatmap(B[:,col-1].reshape(2,1),cmap='RdBu_r',vmax = 4,vmin = 1,\n",
    "                     cbar_kws={\"orientation\": \"horizontal\"},\n",
    "                     yticklabels=np.arange(1,3), xticklabels=np.arange(1,3))\n",
    "    ax.set_aspect(\"equal\")\n",
    "    plt.title(f'$b_{col}$')\n",
    "    plt.yticks(rotation=0) \n",
    "    \n",
    "    \n",
    "    plt.sca(axs[1])\n",
    "    plt.title('$@$')\n",
    "    plt.axis('off')\n",
    "    \n",
    "    "
   ]
  },
  {
   "cell_type": "markdown",
   "id": "61e11214-c124-47cd-96f0-efe70cdc1c13",
   "metadata": {
    "toc-hr-collapsed": true
   },
   "source": [
    "### 矩阵乘法形态\n",
    "> 暂时只记录前面两种,后续的在其他地方再记录."
   ]
  },
  {
   "cell_type": "markdown",
   "id": "f09c80d2-04cd-4f24-a54b-9630f330e147",
   "metadata": {},
   "source": [
    "#### 1. vector and vector "
   ]
  },
  {
   "cell_type": "markdown",
   "id": "697b53b7-c69f-4dd4-aebb-213d61ca0960",
   "metadata": {},
   "source": [
    "#####  1.1 row vector and column vector\n",
    "\n",
    "$$ \\begin{bmatrix}x_1 & x_2 & x_3\\end{bmatrix} @  \\begin{bmatrix}\\theta_1 \\\\ \\theta_2 \\\\ \\theta_3\\end{bmatrix} = \\theta_1 * x_1 + \\theta_2 * x_2 + \\theta_3 * x_3  $$  \n",
    "行向量$x$ 乘以 列向量$\\theta$ 的结果为标量. 向量的内积"
   ]
  },
  {
   "cell_type": "code",
   "execution_count": 9,
   "id": "da3a3dec-3913-4b86-a3ae-203a67efadde",
   "metadata": {},
   "outputs": [
    {
     "name": "stdout",
     "output_type": "stream",
     "text": [
      "[[1 3 4]] \n",
      " [[1]\n",
      " [3]\n",
      " [4]]\n"
     ]
    },
    {
     "data": {
      "text/plain": [
       "array([[26]])"
      ]
     },
     "execution_count": 9,
     "metadata": {},
     "output_type": "execute_result"
    }
   ],
   "source": [
    "row_vector = np.array([[1,3,4,]])\n",
    "col_vector = row_vector.T\n",
    "print(row_vector,'\\n',col_vector)\n",
    "row_vector @ col_vector"
   ]
  },
  {
   "cell_type": "markdown",
   "id": "62f608a1-32d0-4e21-bfc3-3cb04a365e07",
   "metadata": {},
   "source": [
    "#####  1.2 col vector and row vector\n",
    "\n",
    "$$ \\begin{bmatrix}x_1 \\\\ x_2 \\\\ x_3\\end{bmatrix} @  \\begin{bmatrix}\\theta_1 & \\theta_2 & \\theta_3\\end{bmatrix} = \\begin{bmatrix}x_1*\\theta_1 & x_1*\\theta_2 & x_1*\\theta_3 \\\\ x_2*\\theta_1 & x_2*\\theta_2 & x_2*\\theta_3 \\\\ x_3*\\theta_1 & x_3*\\theta_2 & x_3*\\theta_3\\end{bmatrix} $$  \n",
    "列向量$x_{(1,d)}$ 乘以 行向量$\\theta_{(n,1)}$ 的结果为 $n$行$d$列的矩阵"
   ]
  },
  {
   "cell_type": "code",
   "execution_count": 10,
   "id": "c5564413-2160-41cd-b2a2-5270ebfe449a",
   "metadata": {},
   "outputs": [
    {
     "data": {
      "text/plain": [
       "array([[ 1,  3,  4],\n",
       "       [ 3,  9, 12],\n",
       "       [ 4, 12, 16]])"
      ]
     },
     "execution_count": 10,
     "metadata": {},
     "output_type": "execute_result"
    }
   ],
   "source": [
    "col_vector @ row_vector"
   ]
  },
  {
   "cell_type": "markdown",
   "id": "1d1a2c52-cb74-4626-8b22-15c7f9458c3f",
   "metadata": {},
   "source": [
    "####  2. matrix and vector"
   ]
  },
  {
   "cell_type": "markdown",
   "id": "d46f6f95-8b04-4820-995d-074854fc5a4b",
   "metadata": {},
   "source": [
    "##### 2.1 Matrix and col vector\n",
    "\n",
    "$$ \\begin{bmatrix}x_{1,1} & x_{1,2} \\\\ x_{2,1} & x_{2,2} \\\\ x_{3,1} & x_{3,2} \\end{bmatrix} @  \\begin{bmatrix}\\theta_1 \\\\ \\theta_2\\end{bmatrix} = \\begin{bmatrix}x_{1,1}*\\theta_1 + x_{1,2}*\\theta_2 \\\\ x_{2,1}*\\theta_1 + x_{2,2}*\\theta_2 \\\\ x_{3,1}*\\theta_1 + x_{3,2}*\\theta_2 \\end{bmatrix} $$  "
   ]
  },
  {
   "cell_type": "code",
   "execution_count": 11,
   "id": "474c42ba-1b01-4013-9ead-dbb3289d944d",
   "metadata": {},
   "outputs": [
    {
     "data": {
      "text/plain": [
       "(array([[1, 2],\n",
       "        [4, 5],\n",
       "        [7, 8]]),\n",
       " array([[1],\n",
       "        [2]]))"
      ]
     },
     "execution_count": 11,
     "metadata": {},
     "output_type": "execute_result"
    }
   ],
   "source": [
    "M = np.array([[1,2],[4,5],[7,8]])\n",
    "col_vector = np.array([[1],[2]])\n",
    "M,col_vector"
   ]
  },
  {
   "cell_type": "code",
   "execution_count": 12,
   "id": "08631ab5-37f3-44e2-b5f1-97e3128138ca",
   "metadata": {},
   "outputs": [
    {
     "data": {
      "text/plain": [
       "array([[ 5],\n",
       "       [14],\n",
       "       [23]])"
      ]
     },
     "execution_count": 12,
     "metadata": {},
     "output_type": "execute_result"
    }
   ],
   "source": [
    "M @ col_vector"
   ]
  },
  {
   "cell_type": "markdown",
   "id": "17688bf4-4ee4-4279-849f-45cabede20e1",
   "metadata": {},
   "source": [
    "##### 2.2 row vector (1 row matrix)  and matrix and col vector\n",
    "\n",
    "$$  \\begin{bmatrix}a_1 && a_2 && a_3\\end{bmatrix} @  \\begin{bmatrix}x_{1,1} & x_{1,2} \\\\ x_{2,1} & x_{2,2} \\\\ x_{3,1} & x_{3,2} \\end{bmatrix} @    \\begin{bmatrix}\\theta_1 \\\\ \\theta_2\\end{bmatrix} = $$$$ \\begin{bmatrix}a_1 && a_2 && a_3\\end{bmatrix} @  \\begin{bmatrix}x_{1,1}*\\theta_1 + x_{1,2}*\\theta_1 \\\\ x_{2,1}*\\theta_1 + x_{2,2}*\\theta_1 \\\\ x_{3,1}*\\theta_1 + x_{3,2}*\\theta_1 \\end{bmatrix} = $$$$ a_1 * (x_{1,1}*\\theta_1 + x_{1,2}*\\theta_1) + a_2 * (x_{2,1}*\\theta_1 + x_{2,2}*\\theta_1) + a_3 * (x_{3,1}*\\theta_1 + x_{3,2}*\\theta_1)  $$  \n",
    "\n",
    "矩阵的运算从右到左."
   ]
  },
  {
   "cell_type": "code",
   "execution_count": 13,
   "id": "8c834583-93db-4e72-b10f-edd61b65e5b2",
   "metadata": {},
   "outputs": [],
   "source": [
    "row_vector = [1,2,3]"
   ]
  },
  {
   "cell_type": "code",
   "execution_count": 14,
   "id": "f7f2857b-faa6-40cd-a966-183744977dd1",
   "metadata": {},
   "outputs": [
    {
     "data": {
      "text/plain": [
       "array([102])"
      ]
     },
     "execution_count": 14,
     "metadata": {},
     "output_type": "execute_result"
    }
   ],
   "source": [
    "row_vector @ M @ col_vector"
   ]
  },
  {
   "cell_type": "markdown",
   "id": "c420c7fc-e87f-4c9d-a58d-7021bf189fc4",
   "metadata": {},
   "source": [
    "### 两个向量相乘\n",
    "向量$a$和$b$为等长列向量,$a$的转置$a^T$乘$b$为标量,等价于$a$和$b$的标量积:\n",
    "\n",
    "$$ a^Tb = a\\cdot b $$"
   ]
  },
  {
   "cell_type": "code",
   "execution_count": 15,
   "id": "314f6d80-7e02-4805-9a8e-36e6b96373ba",
   "metadata": {},
   "outputs": [
    {
     "name": "stdout",
     "output_type": "stream",
     "text": [
      "a * b.T: \n",
      " [[4 3 2]\n",
      " [8 6 4]] \n",
      "----- \n",
      "a @ b.T: \n",
      " [[4 3 2]\n",
      " [8 6 4]] \n",
      "----- \n",
      "a dot b.T: \n",
      " [[4 3 2]\n",
      " [8 6 4]] \n",
      "----- \n"
     ]
    }
   ],
   "source": [
    "a = np.array([[1],[2]])\n",
    "b = np.array([[4], [3],[2]])\n",
    "print(f'a * b.T: \\n {a * b.T} \\n----- ')\n",
    "print(f'a @ b.T: \\n {a @ b.T} \\n----- ')\n",
    "print(f'a dot b.T: \\n {np.dot(a , b.T)} \\n----- ')"
   ]
  },
  {
   "cell_type": "markdown",
   "id": "f41ae851-92af-47fe-bdf9-1c2fc17c216b",
   "metadata": {},
   "source": [
    "## 2.4 矩阵乘法第一视角"
   ]
  },
  {
   "cell_type": "markdown",
   "id": "d649c2b1-96ac-4e4d-9739-d2f1f08f27b7",
   "metadata": {
    "tags": []
   },
   "source": [
    "#### <a id='2.4.1'>2.4.1</a> 2x2 矩阵相乘"
   ]
  },
  {
   "cell_type": "markdown",
   "id": "cf857e8b-2e9d-4180-9600-347ea51679b5",
   "metadata": {
    "tags": []
   },
   "source": [
    "设矩阵$A$为2x2的矩阵: $$ A=\\begin{bmatrix} 1 & 2 \\\\ 3 &4 \\end{bmatrix} $$ \n",
    "我们将$A$ 写成两个行向量: $a^{(1)}$ 和 $a^{(2)}$ : \n",
    "$$A =\\begin{bmatrix} \\underbrace{\\begin{bmatrix}  1 & 2 \\end{bmatrix}}_{a^{(1)}} \\\\  \\underbrace{\\begin{bmatrix}  3 & 4 \\end{bmatrix}}_{a^{(2)}} \\end{bmatrix} $$"
   ]
  },
  {
   "cell_type": "markdown",
   "id": "c6440cb1-70eb-403b-b91e-3314ebc7c062",
   "metadata": {},
   "source": [
    "设矩阵$B$为2x2的矩阵: $$ B=\\begin{bmatrix} 4 & 3 \\\\ 2 & 1 \\end{bmatrix} $$ \n",
    "我们将$B$ 写成两个列向量: $b_1$ 和 $b_2$ : \n",
    "$$B =\\begin{bmatrix} \\underset{b_1}{\\begin{bmatrix}  4 \\\\ 3 \\end{bmatrix}} & \\underset{b_2}{\\begin{bmatrix}  2 \\\\ 1 \\end{bmatrix}} \\end{bmatrix} $$"
   ]
  },
  {
   "cell_type": "markdown",
   "id": "6fefadc2-deee-4dfe-aaff-27737edee4ef",
   "metadata": {},
   "source": [
    "这样$AB$的矩阵乘积就可以写成:  \n",
    "$$\n",
    "\\begin{align}\n",
    "\\tag{1}  A@B &=   \\underbrace{ \n",
    "    \\begin{bmatrix} \n",
    "        \\underbrace{\n",
    "            \\begin{bmatrix}   1 & 2 \\end{bmatrix} \n",
    "        }_{a^{(1)} } \\\\  \n",
    "        \\underbrace{\n",
    "            \\begin{bmatrix} 3 & 4 \\end{bmatrix}\n",
    "        }_{a^{(2)}} \n",
    "    \\end{bmatrix}\n",
    "}_A   @ \n",
    "\\underbrace{ \n",
    "    \\begin{bmatrix} \n",
    "        \\underset{b_1}{\n",
    "            \\begin{bmatrix}  4 \\\\ 3 \\end{bmatrix}\n",
    "        } & \n",
    "        \\underset{b_2}{\n",
    "            \\begin{bmatrix}  2 \\\\ 1 \\end{bmatrix}\n",
    "        } \n",
    "    \\end{bmatrix}\n",
    "}_{B}  \\\\\n",
    "\\tag{2} &= \n",
    "\\begin{bmatrix}\n",
    "   \\begin{bmatrix}  1 & 2 \\end{bmatrix}  @ \\begin{bmatrix}  4 \\\\ 3 \\end{bmatrix}  & \n",
    "   \\begin{bmatrix}  1 & 2 \\end{bmatrix}  @ \\begin{bmatrix}  2 \\\\ 1 \\end{bmatrix}  \\\\ \n",
    "   \\begin{bmatrix}  3 & 4 \\end{bmatrix}  @ \\begin{bmatrix}  4 \\\\ 3 \\end{bmatrix}  & \n",
    "   \\begin{bmatrix}  3 & 4 \\end{bmatrix}  @ \\begin{bmatrix}  2 \\\\ 1 \\end{bmatrix}  \n",
    "\\end{bmatrix} \\\\\n",
    "\\tag{3} &= \n",
    "\\begin{bmatrix}\n",
    "\\lgroup{a^{(1)}}\\rgroup^T\\cdot{b_1} & \\lgroup{a^{(1)}}\\rgroup^T\\cdot{b_2} \\\\\n",
    "\\lgroup{a^{(2)}}\\rgroup^T\\cdot{b_1} & \\lgroup{a^{(2)}}\\rgroup^T\\cdot{b_2} \n",
    "\\end{bmatrix} \\\\\n",
    "\\tag{3.1} &=\n",
    "\\begin{bmatrix}\n",
    "10 & 4 \\\\ \n",
    "24 & 10\n",
    "\\end{bmatrix}\n",
    "\\end{align}\n",
    "$$\n",
    "\n"
   ]
  },
  {
   "cell_type": "code",
   "execution_count": 16,
   "id": "cb75f077-e060-419f-abed-6f91b96e5c65",
   "metadata": {},
   "outputs": [
    {
     "data": {
      "text/plain": [
       "array([[10,  4],\n",
       "       [24, 10]])"
      ]
     },
     "execution_count": 16,
     "metadata": {},
     "output_type": "execute_result"
    }
   ],
   "source": [
    "np.array([[1,2],[3,4]]) @ np.array([[4,2],[3,1]])\n"
   ]
  },
  {
   "cell_type": "markdown",
   "id": "8d3a33e5-9008-47dd-87cf-07890a7b4eca",
   "metadata": {},
   "source": [
    "#### 2.4.2 更一般的状态"
   ]
  },
  {
   "cell_type": "markdown",
   "id": "9229c0b1-fbd8-402d-a969-1722b8d20077",
   "metadata": {},
   "source": [
    "矩阵的乘积$AB$中,左侧矩阵$A$的形状为$ m * p$ ,将矩阵$A$写成一组上下叠放的行向量 $a^{(i)}$"
   ]
  },
  {
   "cell_type": "markdown",
   "id": "3d92d1f0-9d61-42ed-94ad-d2b2cedb0c25",
   "metadata": {},
   "source": [
    "$$\n",
    "A_{m*p} = \\begin{bmatrix}\n",
    "a^{(1)} \\\\\n",
    "a^{(2)} \\\\\n",
    "\\vdots  \\\\\n",
    "a^{(m)} \\\\\n",
    "\\end{bmatrix}_{m*1}\n",
    "$$"
   ]
  },
  {
   "cell_type": "markdown",
   "id": "5ed9a518-2a61-40f9-9927-c66eb2045900",
   "metadata": {},
   "source": [
    "其中行向量$a^{(i)}$的列数为$p$, 即有$p$个元素."
   ]
  },
  {
   "cell_type": "markdown",
   "id": "6750fefe-c84a-46e6-8e09-693c91007132",
   "metadata": {},
   "source": [
    "同理, 右侧矩阵$B$的形状为$p*n$列,将矩阵$B$写成左右排列的列向量:"
   ]
  },
  {
   "cell_type": "markdown",
   "id": "be105e6b-e59e-46b5-8ad4-5c17683ca23f",
   "metadata": {},
   "source": [
    "$$\n",
    "B_{p*n} = \\begin{bmatrix}\n",
    "b_1 &\n",
    "b_2 &\n",
    "\\dotsb  &&\n",
    "b_n \n",
    "\\end{bmatrix}_{1*n}\n",
    "$$"
   ]
  },
  {
   "cell_type": "markdown",
   "id": "a696391f-eef1-42ab-a8eb-69811bd9c3dd",
   "metadata": {},
   "source": [
    "其中列向量$b_j$行数为$p$,也有$p$个元素."
   ]
  },
  {
   "cell_type": "markdown",
   "id": "310d5712-6e2c-4314-bf68-3c66865d6fd7",
   "metadata": {},
   "source": [
    "$A$和$B$ 相乘,可以展开写成 :"
   ]
  },
  {
   "cell_type": "markdown",
   "id": "a73039ca-ab9e-436f-95f4-d4aa6cae59fe",
   "metadata": {},
   "source": [
    "$$\n",
    "\\begin{align}\n",
    "\\tag{1} A_{m*p} @ B_{p*n} &= \n",
    "\\begin{bmatrix}\n",
    "a^{(1)} \\\\\n",
    "a^{(2)} \\\\\n",
    "\\vdots  \\\\\n",
    "a^{(m)} \\\\\n",
    "\\end{bmatrix}\n",
    "@ \n",
    "\\begin{bmatrix}\n",
    "b_1 &\n",
    "b_2 &\n",
    "\\dotsb  &&\n",
    "b_n \n",
    "\\end{bmatrix}_{1*n} \\\\\n",
    "\\tag{2} &=  \n",
    "\\begin{bmatrix}\n",
    "a^{(1)}b_1 & a^{(1)}b_2 & \\dotsb &  a^{(1)}b_n \\\\\n",
    "a^{(2)}b_1 & a^{(2)}b_2 & \\dotsb &  a^{(2)}b_n \\\\\n",
    "\\vdots     & \\vdots     & \\ddots &  \\vdots \\\\\n",
    "a^{(m)}b_1 & a^{(m)}b_2 & \\dotsb &  a^{(m)}b_n \\\\\n",
    "\\end{bmatrix}_{m*n} \\\\\n",
    "\\tag{3} &= C_{m*n}\n",
    "\\end{align}\n",
    "$$"
   ]
  },
  {
   "cell_type": "code",
   "execution_count": 17,
   "id": "e5680b05-bbe9-41a3-8ff0-e81280b8670d",
   "metadata": {},
   "outputs": [
    {
     "data": {
      "text/plain": [
       "(array([0.5, 1.5, 2.5, 3.5, 4.5, 5.5]),\n",
       " [Text(0, 0.5, '1'),\n",
       "  Text(0, 1.5, '2'),\n",
       "  Text(0, 2.5, '3'),\n",
       "  Text(0, 3.5, '4'),\n",
       "  Text(0, 4.5, '5'),\n",
       "  Text(0, 5.5, '6')])"
      ]
     },
     "execution_count": 17,
     "metadata": {},
     "output_type": "execute_result"
    },
    {
     "data": {
      "image/png": "[encoded data removed]",
      "text/plain": [
       "<Figure size 1200x300 with 8 Axes>"
      ]
     },
     "metadata": {},
     "output_type": "display_data"
    }
   ],
   "source": [
    "\n",
    "# Generate matrix A and B\n",
    "m = 6\n",
    "p = 3\n",
    "n = 4\n",
    "\n",
    "A = np.random.uniform(-1,1,m*p).reshape(m, p)\n",
    "B = np.random.uniform(-1,1,p*n).reshape(p, n)\n",
    "\n",
    "C = A@B\n",
    "\n",
    "all_max = 1\n",
    "all_min = -1\n",
    "\n",
    "#%% matrix multiplication, first perspective\n",
    "\n",
    "fig, axs = plt.subplots(1, 5, figsize=(12, 3))\n",
    "\n",
    "plt.sca(axs[0])\n",
    "ax = sns.heatmap(A,cmap='RdBu_r',vmax = all_max,vmin = all_min,\n",
    "                 cbar_kws={\"orientation\": \"horizontal\"},\n",
    "                 yticklabels=np.arange(1,m+1), xticklabels=np.arange(1,p+1))\n",
    "ax.set_aspect(\"equal\")\n",
    "plt.title('$A$')\n",
    "ax.annotate(\"\", xy=(0,2.5), xytext=(3, 2.5),\n",
    "            arrowprops=dict(arrowstyle=\"->\"))\n",
    "plt.yticks(rotation=0) \n",
    "\n",
    "plt.sca(axs[1])\n",
    "plt.title('$@$')\n",
    "plt.axis('off')\n",
    "\n",
    "plt.sca(axs[2])\n",
    "ax = sns.heatmap(B,cmap='RdBu_r',vmax = all_max,vmin = all_min,\n",
    "                 cbar_kws={\"orientation\": \"horizontal\"},\n",
    "                 yticklabels=np.arange(1,p+1), xticklabels=np.arange(1,n+1))\n",
    "ax.set_aspect(\"equal\")\n",
    "plt.title('$B$')\n",
    "ax.annotate(\"\", xy=(1.5,3), xytext=(1.5, 0),\n",
    "            arrowprops=dict(arrowstyle=\"->\"))\n",
    "plt.yticks(rotation=0) \n",
    "\n",
    "plt.sca(axs[3])\n",
    "plt.title('$=$')\n",
    "plt.axis('off')\n",
    "\n",
    "plt.sca(axs[4])\n",
    "ax = sns.heatmap(C,cmap='RdBu_r',vmax = all_max,vmin = all_min,\n",
    "                 cbar_kws={\"orientation\": \"horizontal\"},\n",
    "                 yticklabels=np.arange(1,m+1), xticklabels=np.arange(1,n+1))\n",
    "ax.set_aspect(\"equal\")\n",
    "ax.annotate(\"\", xy=(1.5,6), xytext=(1.5,0),\n",
    "            arrowprops=dict(arrowstyle=\"->\"))\n",
    "ax.annotate(\"\", xy=(0,2.5), xytext=(4.5,2.5),\n",
    "            arrowprops=dict(arrowstyle=\"->\"))\n",
    "plt.scatter([1.5],[2.5])\n",
    "plt.title('$C$')\n",
    "plt.yticks(rotation=0) "
   ]
  },
  {
   "cell_type": "markdown",
   "id": "cb2f9f31-caab-4f86-9963-cdd3ce5977f3",
   "metadata": {},
   "source": [
    "从上图可知: $A$ 中的第 $i$ 行向量 $a^{(i)}$ 乘以 $B$ 中第 $j$ 列向量 $b_j$，得到标量 $a^{(i)}b_j$，对应乘积矩阵 $C$ 中第 $i$ 行、第 $j$ 列元素 $c_{i,j}$"
   ]
  },
  {
   "cell_type": "markdown",
   "id": "b9e7ae39-d1f7-4527-a9ea-e0afbe02bdf0",
   "metadata": {},
   "source": [
    "## 2.5 矩阵乘法第二视角"
   ]
  },
  {
   "cell_type": "markdown",
   "id": "2430c1b2-256f-440b-a3a0-dc41eb1d965b",
   "metadata": {},
   "source": [
    "不同于[2.4.1](#2.4.1)中将$A$看成多个行向量,$B$看成多个列向量, 接下来我们将两者进行调换.将$A$看成多个列向量,$B$看成多个行向量"
   ]
  },
  {
   "cell_type": "markdown",
   "id": "44bf7269-c08e-4e96-a053-6d894c5bb129",
   "metadata": {},
   "source": [
    "#### <a id=\"2.5.1\">2.5.1 2x2 矩阵相乘</a>"
   ]
  },
  {
   "cell_type": "markdown",
   "id": "516d32cf-c970-460a-9da7-3f644a13827b",
   "metadata": {},
   "source": [
    "$$ \n",
    "\\begin{align}\n",
    "\\tag{1} A &=\\begin{bmatrix} \\underset{a_1}{\\begin{bmatrix}  4 \\\\ 3 \\end{bmatrix}} & \\underset{a_2}{\\begin{bmatrix}  2 \\\\ 1 \\end{bmatrix}} \\end{bmatrix} \\\\\n",
    "\\tag{2} B &=\\begin{bmatrix} \\underbrace{\\begin{bmatrix}  1 & 2 \\end{bmatrix}}_{b^{(1)}} \\\\  \\underbrace{\\begin{bmatrix}  3 & 4 \\end{bmatrix}}_{b^{(2)}} \\end{bmatrix} \n",
    "\\end{align}\n",
    "$$"
   ]
  },
  {
   "cell_type": "markdown",
   "id": "4d4c4a9f-bd20-4d59-8e56-95d3e9d6e392",
   "metadata": {},
   "source": [
    "这样$AB$的乘积可以展开写成:"
   ]
  },
  {
   "cell_type": "markdown",
   "id": "524c8e9f-1ecf-47f3-af42-1b6088b2d386",
   "metadata": {},
   "source": [
    "$$\n",
    "\\begin{align}\n",
    "\\tag{1}  A@B &=   \\underbrace{ \n",
    "    \\begin{bmatrix} \n",
    "        \\underset{a_1}{\n",
    "            \\begin{bmatrix}  1 \\\\ 3 \\end{bmatrix}\n",
    "        } & \n",
    "        \\underset{a_2}{\n",
    "            \\begin{bmatrix}  2 \\\\ 4 \\end{bmatrix}\n",
    "        }\n",
    "    \\end{bmatrix}\n",
    "}_A   @ \n",
    "\\underbrace{ \n",
    "    \\begin{bmatrix} \n",
    "        \\underbrace{\n",
    "            \\begin{bmatrix} 4 & 2 \\end{bmatrix}\n",
    "        }_{b^{(1)}} \\\\\n",
    "        \\underbrace{\n",
    "            \\begin{bmatrix} 3 & 1 \\end{bmatrix}\n",
    "        }_{b^{(2)}} \n",
    "    \\end{bmatrix}\n",
    "}_{B}  \\\\\n",
    "\\tag{2} &= \n",
    "\\underset{a_1}{ \\begin{bmatrix}  1 \\\\ 3 \\end{bmatrix} } \n",
    "@\n",
    "\\underbrace{ \\begin{bmatrix} 4 & 2 \\end{bmatrix} }_{b^{(1)}} \n",
    "+\n",
    "\\underset{a_2}{ \\begin{bmatrix} 2 \\\\ 4 \\end{bmatrix} } \n",
    "@\n",
    "\\underbrace{ \\begin{bmatrix} 3 & 1 \\end{bmatrix} }_{b^{(1)}} \\\\\n",
    "\\tag{3} &= \n",
    "\\begin{bmatrix}\n",
    "4 & 2 \\\\ 12 & 6 \n",
    "\\end{bmatrix} \n",
    "+\n",
    "\\begin{bmatrix}\n",
    "6 & 2 \\\\ 12 & 4 \n",
    "\\end{bmatrix} \\\\\n",
    "\\tag{5} &= \n",
    "\\begin{bmatrix}\n",
    "10 & 4 \\\\ 24 & 10 \n",
    "\\end{bmatrix} \\\\\n",
    "\\tag{5} &= a_1b^{(1)} + a_2b^{(2)}\n",
    "\\end{align}\n",
    "$$\n"
   ]
  },
  {
   "cell_type": "markdown",
   "id": "1f6c47e0-783d-411e-a3aa-d3c992d322cb",
   "metadata": {},
   "source": [
    "#### 2.5.2 更一般情况"
   ]
  },
  {
   "cell_type": "markdown",
   "id": "47273f3b-68fb-4979-8e14-41c7b7a5c2ed",
   "metadata": {},
   "source": [
    "矩阵的乘积$AB$中,左侧矩阵$A$的形状为$ m * p$ ,将矩阵$A$写成一组左右排列的列向量 $a_i$"
   ]
  },
  {
   "cell_type": "markdown",
   "id": "3fda2eef-24c8-4df4-987e-d5d6e6f977b9",
   "metadata": {},
   "source": [
    "$$\n",
    "A_{m*p} = \\begin{bmatrix}\n",
    "a_1 &\n",
    "a_2 &\n",
    "\\dotsb  &&\n",
    "a_p \n",
    "\\end{bmatrix}_{1*p}\n",
    "$$\n"
   ]
  },
  {
   "cell_type": "markdown",
   "id": "f557f7c2-0ebe-429e-bbe8-b5b5f2aa5a2c",
   "metadata": {},
   "source": [
    "其中行向量$a_i$的列数为$m$, 即有$m$个元素."
   ]
  },
  {
   "cell_type": "markdown",
   "id": "44ab25a9-14f4-4170-8d46-f8a717cb75a0",
   "metadata": {},
   "source": [
    "同理, 右侧矩阵$B$的形状为$p*n$列,将矩阵$B$写成上下叠放的行向量:"
   ]
  },
  {
   "cell_type": "markdown",
   "id": "1c7ad8d1-305a-4672-bf32-d3af4646415f",
   "metadata": {},
   "source": [
    "$$\n",
    "\\begin{bmatrix}\n",
    "b^{(1)} \\\\\n",
    "b^{(2)} \\\\\n",
    "\\vdots  \\\\\n",
    "b^{(p)} \\\\\n",
    "\\end{bmatrix}_{p*1} \n",
    "$$"
   ]
  },
  {
   "cell_type": "markdown",
   "id": "c4f979bd-b126-4113-9635-db0e35ee0c0c",
   "metadata": {},
   "source": [
    "其中行向量$b^{(i)}$的行数为$m$, 即有$m$个元素."
   ]
  },
  {
   "cell_type": "markdown",
   "id": "101efcfa-8a91-457f-9f20-ca414eb96aad",
   "metadata": {},
   "source": [
    "$A$和$B$ 相乘,可以展开写成 :"
   ]
  },
  {
   "cell_type": "markdown",
   "id": "442925d1-300f-4da1-86ea-51ec7c4e2303",
   "metadata": {},
   "source": [
    "$$\n",
    "\\begin{align}\n",
    "\\tag{1} A_{m*p} @ B_{p*n} &= \n",
    "\\begin{bmatrix}\n",
    "a_1 &\n",
    "a_2 &\n",
    "\\dotsb  &&\n",
    "a_p \n",
    "\\end{bmatrix}_{1*p}\n",
    "\\begin{bmatrix}\n",
    "b^{(1)} \\\\\n",
    "b^{(2)} \\\\\n",
    "\\vdots  \\\\\n",
    "b^{(p)} \\\\\n",
    "\\end{bmatrix}_{p*1} \\\\\n",
    "\\tag{2} &=  \n",
    "\\underbrace{a_1b^{(1)} + a_2b^{(2)} + \\dotsb + a_pb^{(p)} }_{p\\ matrices\\ with\\ shape\\ of\\ m*n} \\\\\n",
    "\\tag{3} &= \n",
    "C_1 + C_2 + \\dotsb + C_p \\\\ \n",
    "\\tag{4} &= C_{m*n}\n",
    "\\end{align}\n",
    "$$"
   ]
  },
  {
   "cell_type": "code",
   "execution_count": 18,
   "id": "d17d5a07-a8f4-474a-b678-bf7647a82bbc",
   "metadata": {},
   "outputs": [
    {
     "data": {
      "text/plain": [
       "(array([0.5, 1.5, 2.5, 3.5, 4.5, 5.5]),\n",
       " [Text(0, 0.5, '1'),\n",
       "  Text(0, 1.5, '2'),\n",
       "  Text(0, 2.5, '3'),\n",
       "  Text(0, 3.5, '4'),\n",
       "  Text(0, 4.5, '5'),\n",
       "  Text(0, 5.5, '6')])"
      ]
     },
     "execution_count": 18,
     "metadata": {},
     "output_type": "execute_result"
    },
    {
     "data": {
      "image/png": "[encoded data removed]",
      "text/plain": [
       "<Figure size 1200x300 with 11 Axes>"
      ]
     },
     "metadata": {},
     "output_type": "display_data"
    }
   ],
   "source": [
    "\n",
    "C1 = A[:,[0]]@B[[0],:]\n",
    "\n",
    "C2 = A[:,[1]]@B[[1],:]\n",
    "\n",
    "C3 = A[:,[2]]@B[[2],:]\n",
    "\n",
    "fig, axs = plt.subplots(1, 7, figsize=(12, 3))\n",
    "\n",
    "plt.sca(axs[0])\n",
    "ax = sns.heatmap(C1,cmap='RdBu_r',vmax = all_max,vmin = all_min,\n",
    "                 cbar_kws={\"orientation\": \"horizontal\"},\n",
    "                 yticklabels=np.arange(1,m+1), xticklabels=np.arange(1,n+1))\n",
    "ax.set_aspect(\"equal\")\n",
    "plt.title('$C_1$')\n",
    "plt.yticks(rotation=0) \n",
    "\n",
    "plt.sca(axs[1])\n",
    "plt.title('$+$')\n",
    "plt.axis('off')\n",
    "\n",
    "plt.sca(axs[2])\n",
    "ax = sns.heatmap(C2,cmap='RdBu_r',vmax = all_max,vmin = all_min,\n",
    "                 cbar_kws={\"orientation\": \"horizontal\"},\n",
    "                 yticklabels=np.arange(1,m+1), xticklabels=np.arange(1,n+1))\n",
    "ax.set_aspect(\"equal\")\n",
    "plt.title('$C_2$')\n",
    "plt.yticks(rotation=0) \n",
    "\n",
    "plt.sca(axs[3])\n",
    "plt.title('$+$')\n",
    "plt.axis('off')\n",
    "\n",
    "plt.sca(axs[4])\n",
    "ax = sns.heatmap(C3,cmap='RdBu_r',vmax = all_max,vmin = all_min,\n",
    "                 cbar_kws={\"orientation\": \"horizontal\"},\n",
    "                 yticklabels=np.arange(1,m+1), xticklabels=np.arange(1,n+1))\n",
    "ax.set_aspect(\"equal\")\n",
    "plt.title('$C_3$')\n",
    "plt.yticks(rotation=0) \n",
    "\n",
    "plt.sca(axs[5])\n",
    "plt.title('$=$')\n",
    "plt.axis('off')\n",
    "\n",
    "plt.sca(axs[6])\n",
    "ax = sns.heatmap(C,cmap='RdBu_r',vmax = all_max,vmin = all_min,\n",
    "                 cbar_kws={\"orientation\": \"horizontal\"},\n",
    "                 yticklabels=np.arange(1,m+1), xticklabels=np.arange(1,n+1))\n",
    "ax.set_aspect(\"equal\")\n",
    "plt.title('$C$')\n",
    "plt.yticks(rotation=0)"
   ]
  },
  {
   "cell_type": "markdown",
   "id": "e6a1bd18-1faf-4d83-9583-b5cec606d7ba",
   "metadata": {},
   "source": [
    "从图像角度来看,从这个视角来看,矩阵相乘最后好比若干个形状相同的图片,进行层层叠加,最后得到的一幅完整的热图.观察热图可以发现一个有意思的现象，列向量乘行向量好像张起了一幅平面。"
   ]
  },
  {
   "cell_type": "code",
   "execution_count": 19,
   "id": "a36b6733-2c2f-4ed6-b49a-85e7240ac420",
   "metadata": {},
   "outputs": [
    {
     "data": {
      "text/plain": [
       "array([[ 0.97178865, -0.87158338, -0.97246689,  0.28900711]])"
      ]
     },
     "execution_count": 19,
     "metadata": {},
     "output_type": "execute_result"
    }
   ],
   "source": [
    "B[[0],:]\n"
   ]
  },
  {
   "cell_type": "code",
   "execution_count": 20,
   "id": "86defc18-e7a1-442a-ac35-858bb102ce29",
   "metadata": {},
   "outputs": [
    {
     "data": {
      "text/plain": [
       "(array([0.5, 1.5, 2.5, 3.5, 4.5, 5.5]),\n",
       " [Text(0, 0.5, '1'),\n",
       "  Text(0, 1.5, '2'),\n",
       "  Text(0, 2.5, '3'),\n",
       "  Text(0, 3.5, '4'),\n",
       "  Text(0, 4.5, '5'),\n",
       "  Text(0, 5.5, '6')])"
      ]
     },
     "execution_count": 20,
     "metadata": {},
     "output_type": "execute_result"
    },
    {
     "data": {
      "image/png": "[encoded data removed]",
      "text/plain": [
       "<Figure size 1200x300 with 8 Axes>"
      ]
     },
     "metadata": {},
     "output_type": "display_data"
    }
   ],
   "source": [
    "fig, axs = plt.subplots(1,5, figsize=(12, 3))\n",
    "\n",
    "plt.sca(axs[0])\n",
    "ax = sns.heatmap(A[:,[0]].reshape(m,1),cmap='RdBu_r',vmax = all_max,vmin = all_min,\n",
    "                 cbar_kws={\"orientation\": \"horizontal\"},\n",
    "                 yticklabels=np.arange(1,m+1), xticklabels=np.arange(1,n+1))\n",
    "ax.set_aspect(\"equal\")\n",
    "plt.title('$a_1$')\n",
    "plt.yticks(rotation=0) \n",
    "\n",
    "plt.sca(axs[1])\n",
    "plt.title('$@$')\n",
    "plt.axis('off')\n",
    "\n",
    "plt.sca(axs[2])\n",
    "ax = sns.heatmap(B[[0],:].reshape(1,n),cmap='RdBu_r',vmax = all_max,vmin = all_min,\n",
    "                 cbar_kws={\"orientation\": \"horizontal\"},\n",
    "                 yticklabels=np.arange(1,m+1), xticklabels=np.arange(1,n+1))\n",
    "ax.set_aspect(\"equal\")\n",
    "plt.title('$b^{(1)}$')\n",
    "plt.yticks(rotation=0) \n",
    "\n",
    "plt.sca(axs[3])\n",
    "plt.title('$=$')\n",
    "plt.axis('off')\n",
    "\n",
    "plt.sca(axs[4])\n",
    "ax = sns.heatmap(C1 ,cmap='RdBu_r',vmax = all_max,vmin = all_min,\n",
    "                 cbar_kws={\"orientation\": \"horizontal\"},\n",
    "                 yticklabels=np.arange(1,m+1), xticklabels=np.arange(1,n+1))\n",
    "ax.set_aspect(\"equal\")\n",
    "plt.title('$C_1$')\n",
    "plt.yticks(rotation=0)"
   ]
  },
  {
   "cell_type": "code",
   "execution_count": 21,
   "id": "b200c42c-a497-42ba-a4f8-a87be3adeab2",
   "metadata": {},
   "outputs": [
    {
     "data": {
      "text/plain": [
       "(array([0.5, 1.5, 2.5, 3.5, 4.5, 5.5]),\n",
       " [Text(0, 0.5, '1'),\n",
       "  Text(0, 1.5, '2'),\n",
       "  Text(0, 2.5, '3'),\n",
       "  Text(0, 3.5, '4'),\n",
       "  Text(0, 4.5, '5'),\n",
       "  Text(0, 5.5, '6')])"
      ]
     },
     "execution_count": 21,
     "metadata": {},
     "output_type": "execute_result"
    },
    {
     "data": {
      "image/png": "[encoded data removed]",
      "text/plain": [
       "<Figure size 1200x300 with 8 Axes>"
      ]
     },
     "metadata": {},
     "output_type": "display_data"
    }
   ],
   "source": [
    "fig, axs = plt.subplots(1,5, figsize=(12, 3))\n",
    "\n",
    "plt.sca(axs[0])\n",
    "ax = sns.heatmap(A[:,[1]].reshape(m,1),cmap='RdBu_r',vmax = all_max,vmin = all_min,\n",
    "                 cbar_kws={\"orientation\": \"horizontal\"},\n",
    "                 yticklabels=np.arange(1,m+1), xticklabels=np.arange(1,n+1))\n",
    "ax.set_aspect(\"equal\")\n",
    "plt.title('$a_2$')\n",
    "plt.yticks(rotation=0) \n",
    "\n",
    "plt.sca(axs[1])\n",
    "plt.title('$@$')\n",
    "plt.axis('off')\n",
    "\n",
    "plt.sca(axs[2])\n",
    "ax = sns.heatmap(B[[1],:].reshape(1,n),cmap='RdBu_r',vmax = all_max,vmin = all_min,\n",
    "                 cbar_kws={\"orientation\": \"horizontal\"},\n",
    "                 yticklabels=np.arange(1,m+1), xticklabels=np.arange(1,n+1))\n",
    "ax.set_aspect(\"equal\")\n",
    "plt.title('$b^{(2)}$')\n",
    "plt.yticks(rotation=0) \n",
    "\n",
    "plt.sca(axs[3])\n",
    "plt.title('$=$')\n",
    "plt.axis('off')\n",
    "\n",
    "plt.sca(axs[4])\n",
    "ax = sns.heatmap(C2 ,cmap='RdBu_r',vmax = all_max,vmin = all_min,\n",
    "                 cbar_kws={\"orientation\": \"horizontal\"},\n",
    "                 yticklabels=np.arange(1,m+1), xticklabels=np.arange(1,n+1))\n",
    "ax.set_aspect(\"equal\")\n",
    "plt.title('$C_2$')\n",
    "plt.yticks(rotation=0)"
   ]
  },
  {
   "cell_type": "code",
   "execution_count": 22,
   "id": "3cb4bddc-b2ab-4468-9b0d-e17c36e305c7",
   "metadata": {},
   "outputs": [
    {
     "data": {
      "text/plain": [
       "(array([0.5, 1.5, 2.5, 3.5, 4.5, 5.5]),\n",
       " [Text(0, 0.5, '1'),\n",
       "  Text(0, 1.5, '2'),\n",
       "  Text(0, 2.5, '3'),\n",
       "  Text(0, 3.5, '4'),\n",
       "  Text(0, 4.5, '5'),\n",
       "  Text(0, 5.5, '6')])"
      ]
     },
     "execution_count": 22,
     "metadata": {},
     "output_type": "execute_result"
    },
    {
     "data": {
      "image/png": "[encoded data removed]",
      "text/plain": [
       "<Figure size 1200x300 with 8 Axes>"
      ]
     },
     "metadata": {},
     "output_type": "display_data"
    }
   ],
   "source": [
    "fig, axs = plt.subplots(1,5, figsize=(12, 3))\n",
    "\n",
    "plt.sca(axs[0])\n",
    "ax = sns.heatmap(A[:,[2]].reshape(m,1),cmap='RdBu_r',vmax = all_max,vmin = all_min,\n",
    "                 cbar_kws={\"orientation\": \"horizontal\"},\n",
    "                 yticklabels=np.arange(1,m+1), xticklabels=np.arange(1,n+1))\n",
    "ax.set_aspect(\"equal\")\n",
    "plt.title('$a_3$')\n",
    "plt.yticks(rotation=0) \n",
    "\n",
    "plt.sca(axs[1])\n",
    "plt.title('$@$')\n",
    "plt.axis('off')\n",
    "\n",
    "plt.sca(axs[2])\n",
    "ax = sns.heatmap(B[[2],:].reshape(1,n),cmap='RdBu_r',vmax = all_max,vmin = all_min,\n",
    "                 cbar_kws={\"orientation\": \"horizontal\"},\n",
    "                 yticklabels=np.arange(1,m+1), xticklabels=np.arange(1,n+1))\n",
    "ax.set_aspect(\"equal\")\n",
    "plt.title('$b^{(3)}$')\n",
    "plt.yticks(rotation=0) \n",
    "\n",
    "plt.sca(axs[3])\n",
    "plt.title('$=$')\n",
    "plt.axis('off')\n",
    "\n",
    "plt.sca(axs[4])\n",
    "ax = sns.heatmap(C3 ,cmap='RdBu_r',vmax = all_max,vmin = all_min,\n",
    "                 cbar_kws={\"orientation\": \"horizontal\"},\n",
    "                 yticklabels=np.arange(1,m+1), xticklabels=np.arange(1,n+1))\n",
    "ax.set_aspect(\"equal\")\n",
    "plt.title('$C_3$')\n",
    "plt.yticks(rotation=0)"
   ]
  },
  {
   "cell_type": "markdown",
   "id": "56dc63a9-f0f6-478c-ad13-0c5587b6f6cc",
   "metadata": {},
   "source": [
    "主成分分析 (Principal Component Analysis, PCA) 是机器学习中重要的降维算法。这种算法可\n",
    "以把可能存在线性相关的数据转化成线性不相关的数据，并提取数据中的主要特征。"
   ]
  },
  {
   "cell_type": "markdown",
   "id": "bd82565f-2968-4ec9-b932-e9705d3f05d0",
   "metadata": {},
   "source": [
    "## 2.6 矩阵除法"
   ]
  },
  {
   "cell_type": "markdown",
   "id": "819ab799-1743-4a23-aa06-dfe1efdd822c",
   "metadata": {},
   "source": [
    "实际上，并不存在所谓的矩阵除法。所谓矩阵$B$除以矩阵$A$，实际上将矩阵$A$先转化逆矩阵$A^{-1}$，然后计算$B$和逆矩阵$A^{-1}$乘积，即："
   ]
  },
  {
   "cell_type": "markdown",
   "id": "a3d64106-9f81-4545-8475-72da7f262516",
   "metadata": {},
   "source": [
    "$$ \n",
    "BA^{-1} = B @ A^{-1}\n",
    "$$"
   ]
  },
  {
   "cell_type": "markdown",
   "id": "9dcfbc8d-9dc1-419b-b869-80718def0e3b",
   "metadata": {},
   "source": [
    "$A$如果可逆(invertible),仅当$A$为方阵且存在矩阵$A^{-1}$使得下面的公式成立:"
   ]
  },
  {
   "cell_type": "markdown",
   "id": "38616ff8-af4f-47c6-a417-1d05e76c0d8f",
   "metadata": {},
   "source": [
    "$$ AA^{-1} = A^{-1}A = I $$"
   ]
  },
  {
   "cell_type": "markdown",
   "id": "d9f7168f-a54e-48d3-8fea-8f6c9ca38dc1",
   "metadata": {},
   "source": [
    "$A^{-1}$叫做矩阵$A$的逆(the inverse of matrix A)"
   ]
  },
  {
   "cell_type": "markdown",
   "id": "f62e2f0c-763d-4646-830d-79f21bb8e59a",
   "metadata": {},
   "source": [
    "$I$就是单位阵(identity matrix). $n$阶单位矩阵(n-square identity matrix或 n-square unit matrix)的特点就是对角线上的元素为1,其他为0."
   ]
  },
  {
   "cell_type": "markdown",
   "id": "bd84fe18-ebeb-4181-b3ce-fcfe59a20eff",
   "metadata": {},
   "source": [
    "$$  I_{n*n} = \\begin{bmatrix} \n",
    "1 & 0 & \\dotsb & 0 \\\\\n",
    "0 & 1 & \\dotsb & 0 \\\\\n",
    "\\vdots & \\vdots & \\ddots & \\vdots \\\\\n",
    "0 & 0 & \\dotsb & 1 \\\\\n",
    "\\end{bmatrix} $$"
   ]
  },
  {
   "cell_type": "markdown",
   "id": "023f6f79-28e6-49a8-93d8-dab4b80a31c6",
   "metadata": {},
   "source": [
    "可以使用``` numpy.linalg.inv() ``` 计算方阵的逆."
   ]
  },
  {
   "cell_type": "markdown",
   "id": "989173aa-8b2e-44ef-a3e7-6d1bdebe9afc",
   "metadata": {},
   "source": [
    "一般情况下: \n",
    "$$ \\begin{align}\n",
    " (A+B)^{-1} \\ne A^{-1} + B^{-1} \n",
    "\\end{align}\n",
    "$$\n"
   ]
  },
  {
   "cell_type": "markdown",
   "id": "e4952cd8-b5c7-49fd-b876-65f00267f3c9",
   "metadata": {},
   "source": [
    "与矩阵逆有关的运算规则:\n",
    "$$ \\begin{align}\n",
    "\\tag{1} (A^T)^{-1} = (A^{-1})^T \\\\\n",
    "\\tag{2} (AB)^{-1} = B^{-1}A^{-1} \\\\\n",
    "\\tag{3} (ABC)^{-1} =  C^{-1}B^{-1}A^{-1} \\\\\n",
    "\\tag{4} (kA)^{-1} = {\\frac{1}{k}A^{-1}}\\\\\n",
    "\\end{align}\n",
    "$$\n",
    "其中，假设 $A$、$B$、$C$、$AB$ 和 $ABC$ 逆运算存在。"
   ]
  },
  {
   "cell_type": "markdown",
   "id": "4076422d-c4c2-4352-988f-f54fcfb0159a",
   "metadata": {},
   "source": [
    "|<div style=\"width:100px\">数学表达</div>|<div style=\"width:200px\">英文表达</div>|\n",
    "|:----:| :----: |\n",
    "| $A^{−1}$ | Inverse of the matrix boldface capital $A$ <br/> Matrix boldface capital $A$ inverse |\n",
    "|$(A + B)^{−1}$| Left parenthesis bold face capital $A$ plus boldface capital $B$ right parenthesis superscript minus one <br/> Inverse of the matrix sum boldface capital $A$ plus boldface capital $B$ |\n",
    "|$(AB)^{−1}$|  Left parenthesis boldface capital $A$ times boldface capital $B$ right parenthesis superscript minus one <br/> Inverse of the matrix product boldface capital $A$ and boldface capital $B$ |\n",
    "|$(ABC)^{−1}$|  The product boldface capital $A$ boldface capital $B$ and boldface capital $C$ inverse| \n"
   ]
  },
  {
   "cell_type": "code",
   "execution_count": 23,
   "id": "c4466d20-5fd2-4994-b03c-351aaa97c010",
   "metadata": {},
   "outputs": [
    {
     "ename": "ModuleNotFoundError",
     "evalue": "No module named 'sympy'",
     "output_type": "error",
     "traceback": [
      "\u001b[0;31m---------------------------------------------------------------------------\u001b[0m",
      "\u001b[0;31mModuleNotFoundError\u001b[0m                       Traceback (most recent call last)",
      "Cell \u001b[0;32mIn[23], line 1\u001b[0m\n\u001b[0;32m----> 1\u001b[0m \u001b[38;5;28;01mfrom\u001b[39;00m \u001b[38;5;21;01msympy\u001b[39;00m \u001b[38;5;28;01mimport\u001b[39;00m \u001b[38;5;241m*\u001b[39m\n\u001b[1;32m      2\u001b[0m init_printing(use_latex\u001b[38;5;241m=\u001b[39m\u001b[38;5;28;01mTrue\u001b[39;00m, use_unicode\u001b[38;5;241m=\u001b[39m\u001b[38;5;28;01mTrue\u001b[39;00m)\n",
      "\u001b[0;31mModuleNotFoundError\u001b[0m: No module named 'sympy'"
     ]
    }
   ],
   "source": [
    "\n",
    "from sympy import *\n",
    "init_printing(use_latex=True, use_unicode=True)"
   ]
  },
  {
   "cell_type": "code",
   "execution_count": null,
   "id": "b9643d40",
   "metadata": {},
   "outputs": [],
   "source": [
    "from sympy.abc import x,y,z"
   ]
  },
  {
   "cell_type": "code",
   "execution_count": null,
   "id": "5e4c781c",
   "metadata": {},
   "outputs": [],
   "source": [
    "Integral(sqrt(1/x), x)"
   ]
  },
  {
   "cell_type": "markdown",
   "id": "0baa2499-312a-43d5-953e-47a78b3fb11c",
   "metadata": {},
   "source": [
    "# Character 3: 几何"
   ]
  },
  {
   "attachments": {
    "24a19d20-8686-48a1-ae29-e0ff405a2c82.png": {
     "image/png": "[encoded data removed]"
    }
   },
   "cell_type": "markdown",
   "id": "34c3cc6c-01db-4993-a77e-942f20874a4e",
   "metadata": {
    "tags": []
   },
   "source": [
    "## 三角函数\n",
    "![download.png](attachment:24a19d20-8686-48a1-ae29-e0ff405a2c82.png)\n",
    "\n",
    "在直角三角形中  \n",
    "正弦函数 $\\sin$为: 对边比斜边:  $\\sin(\\theta) = \\frac{a}{c}$  \n",
    "余弦函数 $\\cos$为: 领边比斜边:  $\\cos(\\theta) = \\frac{b}{c}$  \n",
    "正切函数 $\\tan$为: 对边比领边:  $tan(\\theta) = \\frac{a}{b}$  "
   ]
  },
  {
   "cell_type": "markdown",
   "id": "e39456ba-96a1-4324-aa88-097f9450b056",
   "metadata": {
    "tags": []
   },
   "source": [
    "###### 画出三角形"
   ]
  },
  {
   "cell_type": "code",
   "execution_count": null,
   "id": "90f4c7b9-4ec6-4582-8d55-02520ba3728b",
   "metadata": {},
   "outputs": [],
   "source": [
    "import matplotlib.pyplot as plt\n",
    "from matplotlib.patches import Arc\n",
    "import numpy as np"
   ]
  },
  {
   "cell_type": "code",
   "execution_count": null,
   "id": "a2bb3301-2231-434f-9a59-c54d3feb4e9a",
   "metadata": {},
   "outputs": [],
   "source": [
    "\n",
    "plt.figure()\n",
    "plt.gca().set_aspect('equal')\n",
    "points = np.array([ \n",
    "    [2,2], [6,2] ,[2,6],[2,2]\n",
    "])\n",
    "p = plt.Polygon(points, alpha=0.2, edgecolor='k' )\n",
    "plt.gca().add_patch(p)\n",
    "\n",
    "theta_arc = Arc((6,2),width=0.5,height=0.5,angle=0,theta1=135,theta2=180)\n",
    "plt.gca().add_patch(theta_arc)\n",
    "\n",
    "plt.plot([2, 2.3,2.3],[2.3,2.3, 2],color='k',alpha=0.2)\n",
    "\n",
    "plt.gca().text(5.3, 2.1, r'$\\theta$', fontsize=14)\n",
    "plt.gca().text(4.1, 4.1, r'$c$', fontsize=14)\n",
    "plt.gca().text(1.6, 4, r'$a$', fontsize=14)\n",
    "plt.gca().text(4, 1.6, r'$b$', fontsize=14)\n",
    "\n",
    "plt.xlim([2,6])\n",
    "plt.ylim([2,6])\n",
    "plt.axis('off')\n",
    "\n",
    "plt.show()"
   ]
  },
  {
   "cell_type": "markdown",
   "id": "90684347-fffa-41a0-b918-31410d670326",
   "metadata": {},
   "source": [
    "### "
   ]
  },
  {
   "cell_type": "markdown",
   "id": "f0d94f04-3b19-4420-a75b-e807d728685c",
   "metadata": {},
   "source": [
    "向量点乘，也称为内积或点积，是一种二维向量之间的数学运算。在几何中，向量点乘的几何意义是两个向量在同一平面内的夹角的余弦值。\n",
    "\n",
    "举个例子，如果我们有两个向量 $\\mathbf{a}$ 和 $\\mathbf{b}$，它们的点乘运算就是 $\\mathbf{a} \\cdot \\mathbf{b}$。如果这两个向量在同一平面内，那么它们的点乘就是它们的夹角的余弦值。\n",
    "\n",
    "例如，如果 $\\mathbf{a}$ 是一个长度为 $3$ 的向量，$\\mathbf{b}$ 是一个长度为 $4$ 的向量，它们之间的夹角是 $60^{\\circ}$，那么它们的点乘就是 $\\cos 60^{\\circ} = \\frac{1}{2}$。\n",
    "\n",
    "其中，由于向量是有方向的，所以如果两个向量的方向相反，那么它们的点乘也会是负值。例如，如果 $\\mathbf{a}$ 和 $-\\mathbf{b}$ 在同一平面内，它们的夹角为 $60^{\\circ}$，那么它们的点乘就是 $-\\cos 60^{\\circ} = -\\frac{1}{2}$。\n",
    "\n",
    "总之，向量点乘的几何意义是两个向量在同一平面内的夹角的余弦值。它可以用来表示两个向量之间的相似度，以及它们之间的夹角大小。"
   ]
  },
  {
   "cell_type": "code",
   "execution_count": 25,
   "id": "570166e7-7ab0-49dd-aaf0-1278b389f9bc",
   "metadata": {},
   "outputs": [
    {
     "name": "stdout",
     "output_type": "stream",
     "text": [
      "Looking in indexes: http://mirrors.cloud.aliyuncs.com/pypi/simple/\n",
      "Collecting manim\n",
      "  Using cached http://mirrors.cloud.aliyuncs.com/pypi/packages/b2/38/1add02a8234da9d143ede08960bf32f99a6aaaa3092a8a42408830eb3ec6/manim-0.17.1-py3-none-any.whl (524 kB)\n",
      "Collecting watchdog<3.0.0,>=2.1.6\n",
      "  Using cached http://mirrors.cloud.aliyuncs.com/pypi/packages/5b/ee/ca842b657290958a7269b676dcb034ea6054eedcad3cceabaf446950572c/watchdog-2.2.0-py3-none-manylinux2014_x86_64.whl (78 kB)\n",
      "Collecting moderngl-window<3.0.0,>=2.3.0\n",
      "  Using cached http://mirrors.cloud.aliyuncs.com/pypi/packages/47/54/62be469e8c3a06c623647f263694f6e06b60a8372b55224537d7a0afbe3a/moderngl_window-2.4.2-py3-none-any.whl (368 kB)\n",
      "Collecting colour<0.2.0,>=0.1.5\n",
      "  Using cached http://mirrors.cloud.aliyuncs.com/pypi/packages/74/46/e81907704ab203206769dee1385dc77e1407576ff8f50a0681d0a6b541be/colour-0.1.5-py2.py3-none-any.whl (23 kB)\n",
      "Collecting networkx<3.0,>=2.5\n",
      "  Using cached http://mirrors.cloud.aliyuncs.com/pypi/packages/42/31/d2f89f1ae42718f8c8a9e440ebe38d7d5fe1e0d9eb9178ce779e365b3ab0/networkx-2.8.8-py3-none-any.whl (2.0 MB)\n",
      "Collecting cloup<0.14.0,>=0.13.0\n",
      "  Using cached http://mirrors.cloud.aliyuncs.com/pypi/packages/31/76/4e5996258b5d1c15ce8a5f2ec8c8be67551b525f14f575493a9351a4241f/cloup-0.13.1-py2.py3-none-any.whl (51 kB)\n",
      "Requirement already satisfied: tqdm<5.0.0,>=4.62.3 in /root/miniconda3/lib/python3.9/site-packages (from manim) (4.64.1)\n",
      "Collecting isosurfaces==0.1.0\n",
      "  Using cached http://mirrors.cloud.aliyuncs.com/pypi/packages/24/9f/c19af91dd20382796fab76b9ea637b5e0a91f22a749b46d228dd4320e0fe/isosurfaces-0.1.0-py3-none-any.whl (10 kB)\n",
      "Collecting mapbox-earcut<2.0.0,>=1.0.0\n",
      "  Using cached http://mirrors.cloud.aliyuncs.com/pypi/packages/de/e6/368328bf3821d0829b18db66e781b07abf9f58c4bf0a7f6edabceb504413/mapbox_earcut-1.0.1-cp39-cp39-manylinux_2_17_x86_64.manylinux2014_x86_64.whl (105 kB)\n",
      "Collecting click-default-group<2.0.0,>=1.2.2\n",
      "  Using cached click_default_group-1.2.2-py3-none-any.whl\n",
      "Collecting manimpango<0.5.0,>=0.4.0.post0\n",
      "  Using cached http://mirrors.cloud.aliyuncs.com/pypi/packages/2b/2e/a426d0b799747de3da775d56116128a23b2a2c4836fb97daea30137a5e1f/ManimPango-0.4.3.tar.gz (4.1 MB)\n",
      "  Installing build dependencies ... \u001b[?25ldone\n",
      "\u001b[?25h  Getting requirements to build wheel ... \u001b[?25ldone\n",
      "\u001b[?25h  Preparing metadata (pyproject.toml) ... \u001b[?25ldone\n",
      "\u001b[?25hRequirement already satisfied: numpy<2.0,>=1.19 in /root/miniconda3/lib/python3.9/site-packages (from manim) (1.23.5)\n",
      "Requirement already satisfied: Pillow<10.0,>=9.1 in /root/miniconda3/lib/python3.9/site-packages (from manim) (9.3.0)\n",
      "Requirement already satisfied: Pygments<3.0.0,>=2.10.0 in /root/miniconda3/lib/python3.9/site-packages (from manim) (2.13.0)\n",
      "Collecting scipy<2.0.0,>=1.7.3\n",
      "  Using cached http://mirrors.cloud.aliyuncs.com/pypi/packages/bb/b7/380c9e4cd71263f03d16f8a92c0e44c9bdef38777e1a7dde1f47ba996bac/scipy-1.9.3-cp39-cp39-manylinux_2_17_x86_64.manylinux2014_x86_64.whl (33.8 MB)\n",
      "Requirement already satisfied: decorator<6.0.0,>=5.0.7 in /root/miniconda3/lib/python3.9/site-packages (from manim) (5.1.1)\n",
      "Collecting screeninfo<0.9,>=0.8\n",
      "  Using cached http://mirrors.cloud.aliyuncs.com/pypi/packages/6e/bf/c5205d480307bef660e56544b9e3d7ff687da776abb30c9cb3f330887570/screeninfo-0.8.1-py3-none-any.whl (12 kB)\n",
      "Collecting skia-pathops<0.8.0,>=0.7.0\n",
      "  Using cached http://mirrors.cloud.aliyuncs.com/pypi/packages/54/b5/d78e2e5eec29f06d63c4aee264e38fc015f122dc3ba1242e75fe27ec0875/skia_pathops-0.7.4-cp39-cp39-manylinux_2_17_x86_64.manylinux2014_x86_64.whl (3.0 MB)\n",
      "Requirement already satisfied: requests<3.0.0,>=2.26.0 in /root/miniconda3/lib/python3.9/site-packages (from manim) (2.28.1)\n",
      "Collecting click<=9.0,>=7.2\n",
      "  Using cached http://mirrors.cloud.aliyuncs.com/pypi/packages/c2/f1/df59e28c642d583f7dacffb1e0965d0e00b218e0186d7858ac5233dce840/click-8.1.3-py3-none-any.whl (96 kB)\n",
      "Collecting rich!=12.0.0,>=6.0\n",
      "  Using cached http://mirrors.cloud.aliyuncs.com/pypi/packages/32/60/81ac2e7d1e3b861ab478a72e3b20fc91c4302acd2274822e493758941829/rich-12.6.0-py3-none-any.whl (237 kB)\n",
      "Collecting pycairo<2.0,>=1.21\n",
      "  Using cached http://mirrors.cloud.aliyuncs.com/pypi/packages/69/ca/9e9fa2e8be0876a9bbf046a1be7ee33e61d4fdfbd1fd25c76c1bdfddf8c4/pycairo-1.23.0.tar.gz (344 kB)\n",
      "  Installing build dependencies ... \u001b[?25ldone\n",
      "\u001b[?25h  Getting requirements to build wheel ... \u001b[?25ldone\n",
      "\u001b[?25h  Installing backend dependencies ... \u001b[?25ldone\n",
      "\u001b[?25h  Preparing metadata (pyproject.toml) ... \u001b[?25ldone\n",
      "\u001b[?25hCollecting pydub<0.26.0,>=0.25.1\n",
      "  Using cached http://mirrors.cloud.aliyuncs.com/pypi/packages/a6/53/d78dc063216e62fc55f6b2eebb447f6a4b0a59f55c8406376f76bf959b08/pydub-0.25.1-py2.py3-none-any.whl (32 kB)\n",
      "Collecting srt<4.0.0,>=3.5.0\n",
      "  Using cached srt-3.5.2-py3-none-any.whl\n",
      "Collecting svgelements<2.0.0,>=1.8.0\n",
      "  Using cached http://mirrors.cloud.aliyuncs.com/pypi/packages/a5/1e/2ea5fd410c7031d1cd09f845f406626d04969cb43191a6c7730afd389e61/svgelements-1.8.4-py2.py3-none-any.whl (125 kB)\n",
      "Collecting moderngl<6.0.0,>=5.6.3\n",
      "  Using cached http://mirrors.cloud.aliyuncs.com/pypi/packages/a6/0f/053ce6e802eff6e1c18fe56a14b466ec9b20f254aca2f241374998b6904d/moderngl-5.7.4-cp39-cp39-manylinux_2_17_x86_64.manylinux2014_x86_64.whl (702 kB)\n",
      "Collecting glcontext<3,>=2.3.6\n",
      "  Using cached http://mirrors.cloud.aliyuncs.com/pypi/packages/90/d7/8567af78e5fd0ae4eb086773167c64679e6e5810076f81edce4a22c919cf/glcontext-2.3.7-cp39-cp39-manylinux_2_5_x86_64.manylinux1_x86_64.manylinux_2_17_x86_64.manylinux2014_x86_64.whl (51 kB)\n",
      "Collecting pyglet>=2.0dev23\n",
      "  Using cached http://mirrors.cloud.aliyuncs.com/pypi/packages/bd/15/ff826140457e753a6bc4efdbf52202d22121e90c122bfe78451681e007d9/pyglet-2.0.1-py3-none-any.whl (964 kB)\n",
      "Collecting pyrr<1,>=0.10.3\n",
      "  Using cached http://mirrors.cloud.aliyuncs.com/pypi/packages/80/d4/09bb74e93f9f677eadcf9ddb92681755f75e0f354a1b904f1913e32ca1b2/pyrr-0.10.3-py3-none-any.whl (46 kB)\n",
      "Requirement already satisfied: certifi>=2017.4.17 in /root/miniconda3/lib/python3.9/site-packages (from requests<3.0.0,>=2.26.0->manim) (2022.9.24)\n",
      "Requirement already satisfied: charset-normalizer<3,>=2 in /root/miniconda3/lib/python3.9/site-packages (from requests<3.0.0,>=2.26.0->manim) (2.0.4)\n",
      "Requirement already satisfied: urllib3<1.27,>=1.21.1 in /root/miniconda3/lib/python3.9/site-packages (from requests<3.0.0,>=2.26.0->manim) (1.26.13)\n",
      "Requirement already satisfied: idna<4,>=2.5 in /root/miniconda3/lib/python3.9/site-packages (from requests<3.0.0,>=2.26.0->manim) (3.4)\n",
      "Collecting commonmark<0.10.0,>=0.9.0\n",
      "  Using cached http://mirrors.cloud.aliyuncs.com/pypi/packages/b1/92/dfd892312d822f36c55366118b95d914e5f16de11044a27cf10a7d71bbbf/commonmark-0.9.1-py2.py3-none-any.whl (51 kB)\n",
      "Collecting multipledispatch\n",
      "  Using cached http://mirrors.cloud.aliyuncs.com/pypi/packages/89/79/429ecef45fd5e4504f7474d4c3c3c4668c267be3370e4c2fd33e61506833/multipledispatch-0.6.0-py3-none-any.whl (11 kB)\n",
      "Requirement already satisfied: six in /root/miniconda3/lib/python3.9/site-packages (from multipledispatch->pyrr<1,>=0.10.3->moderngl-window<3.0.0,>=2.3.0->manim) (1.16.0)\n",
      "Building wheels for collected packages: manimpango, pycairo\n",
      "  Building wheel for manimpango (pyproject.toml) ... \u001b[?25ldone\n",
      "\u001b[?25h  Created wheel for manimpango: filename=ManimPango-0.4.3-cp39-cp39-linux_x86_64.whl size=95987 sha256=96bad2eb90662969b4c74d70cc38bf15e93bd6f0b51f1773b87e3f40b20664ff\n",
      "  Stored in directory: /root/.cache/pip/wheels/18/75/16/83d61d0e33bbbc68a272f9a3bc06b7e4f5015c64483116acb3\n",
      "  Building wheel for pycairo (pyproject.toml) ... \u001b[?25ldone\n",
      "\u001b[?25h  Created wheel for pycairo: filename=pycairo-1.23.0-cp39-cp39-linux_x86_64.whl size=143902 sha256=ce8729de68d0c39d2be819262936ad9c3164745d86a06850f32d91df8aec819c\n",
      "  Stored in directory: /root/.cache/pip/wheels/5f/56/eb/9fec11c9c4adf87ed718aff1a04668bf13e3303239e5682b1e\n",
      "Successfully built manimpango pycairo\n",
      "Installing collected packages: svgelements, pyglet, pydub, glcontext, commonmark, colour, watchdog, srt, skia-pathops, screeninfo, scipy, rich, pycairo, networkx, multipledispatch, moderngl, mapbox-earcut, manimpango, isosurfaces, click, pyrr, cloup, click-default-group, moderngl-window, manim\n",
      "Successfully installed click-8.1.3 click-default-group-1.2.2 cloup-0.13.1 colour-0.1.5 commonmark-0.9.1 glcontext-2.3.7 isosurfaces-0.1.0 manim-0.17.1 manimpango-0.4.3 mapbox-earcut-1.0.1 moderngl-5.7.4 moderngl-window-2.4.2 multipledispatch-0.6.0 networkx-2.8.8 pycairo-1.23.0 pydub-0.25.1 pyglet-2.0.1 pyrr-0.10.3 rich-12.6.0 scipy-1.9.3 screeninfo-0.8.1 skia-pathops-0.7.4 srt-3.5.2 svgelements-1.8.4 watchdog-2.2.0\n",
      "\u001b[33mWARNING: Running pip as the 'root' user can result in broken permissions and conflicting behaviour with the system package manager. It is recommended to use a virtual environment instead: https://pip.pypa.io/warnings/venv\u001b[0m\u001b[33m\n",
      "\u001b[0m"
     ]
    }
   ],
   "source": [
    "!pip install manim"
   ]
  },
  {
   "cell_type": "code",
   "execution_count": null,
   "id": "b1441970-4a3f-482e-ad3d-c532cf5fe2ca",
   "metadata": {},
   "outputs": [],
   "source": []
  }
 ],
 "metadata": {
  "kernelspec": {
   "display_name": "Python 3 (ipykernel)",
   "language": "python",
   "name": "python3"
  },
  "language_info": {
   "codemirror_mode": {
    "name": "ipython",
    "version": 3
   },
   "file_extension": ".py",
   "mimetype": "text/x-python",
   "name": "python",
   "nbconvert_exporter": "python",
   "pygments_lexer": "ipython3",
   "version": "3.9.12"
  },
  "vscode": {
   "interpreter": {
    "hash": "f60092c90f8b42a32bd3cfac0b40768d5abc3e4c557e9438383dc353c1424043"
   }
  }
 },
 "nbformat": 4,
 "nbformat_minor": 5
}
